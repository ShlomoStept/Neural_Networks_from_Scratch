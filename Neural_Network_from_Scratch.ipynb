{
 "cells": [
  {
   "cell_type": "code",
   "execution_count": 24,
   "id": "112169eb",
   "metadata": {},
   "outputs": [],
   "source": [
    "import numpy as np\n",
    "import pandas as pd\n",
    "from matplotlib import pyplot as plt"
   ]
  },
  {
   "cell_type": "markdown",
   "id": "618289d2",
   "metadata": {},
   "source": [
    "## Part 1 : Get the data and Preprocess it "
   ]
  },
  {
   "cell_type": "code",
   "execution_count": 25,
   "id": "de613434",
   "metadata": {},
   "outputs": [],
   "source": [
    "# 1. Load the data from the .csv file, into a pandas dataframe (pandas makes loading csv files easy)\n",
    "pd_data = pd.read_csv('./mnist_data/train.csv')"
   ]
  },
  {
   "cell_type": "code",
   "execution_count": 26,
   "id": "f1cb35d6",
   "metadata": {
    "scrolled": true
   },
   "outputs": [
    {
     "data": {
      "text/html": [
       "<div>\n",
       "<style scoped>\n",
       "    .dataframe tbody tr th:only-of-type {\n",
       "        vertical-align: middle;\n",
       "    }\n",
       "\n",
       "    .dataframe tbody tr th {\n",
       "        vertical-align: top;\n",
       "    }\n",
       "\n",
       "    .dataframe thead th {\n",
       "        text-align: right;\n",
       "    }\n",
       "</style>\n",
       "<table border=\"1\" class=\"dataframe\">\n",
       "  <thead>\n",
       "    <tr style=\"text-align: right;\">\n",
       "      <th></th>\n",
       "      <th>label</th>\n",
       "      <th>pixel0</th>\n",
       "      <th>pixel1</th>\n",
       "      <th>pixel2</th>\n",
       "      <th>pixel3</th>\n",
       "      <th>pixel4</th>\n",
       "      <th>pixel5</th>\n",
       "      <th>pixel6</th>\n",
       "      <th>pixel7</th>\n",
       "      <th>pixel8</th>\n",
       "      <th>...</th>\n",
       "      <th>pixel774</th>\n",
       "      <th>pixel775</th>\n",
       "      <th>pixel776</th>\n",
       "      <th>pixel777</th>\n",
       "      <th>pixel778</th>\n",
       "      <th>pixel779</th>\n",
       "      <th>pixel780</th>\n",
       "      <th>pixel781</th>\n",
       "      <th>pixel782</th>\n",
       "      <th>pixel783</th>\n",
       "    </tr>\n",
       "  </thead>\n",
       "  <tbody>\n",
       "    <tr>\n",
       "      <th>0</th>\n",
       "      <td>1</td>\n",
       "      <td>0</td>\n",
       "      <td>0</td>\n",
       "      <td>0</td>\n",
       "      <td>0</td>\n",
       "      <td>0</td>\n",
       "      <td>0</td>\n",
       "      <td>0</td>\n",
       "      <td>0</td>\n",
       "      <td>0</td>\n",
       "      <td>...</td>\n",
       "      <td>0</td>\n",
       "      <td>0</td>\n",
       "      <td>0</td>\n",
       "      <td>0</td>\n",
       "      <td>0</td>\n",
       "      <td>0</td>\n",
       "      <td>0</td>\n",
       "      <td>0</td>\n",
       "      <td>0</td>\n",
       "      <td>0</td>\n",
       "    </tr>\n",
       "    <tr>\n",
       "      <th>1</th>\n",
       "      <td>0</td>\n",
       "      <td>0</td>\n",
       "      <td>0</td>\n",
       "      <td>0</td>\n",
       "      <td>0</td>\n",
       "      <td>0</td>\n",
       "      <td>0</td>\n",
       "      <td>0</td>\n",
       "      <td>0</td>\n",
       "      <td>0</td>\n",
       "      <td>...</td>\n",
       "      <td>0</td>\n",
       "      <td>0</td>\n",
       "      <td>0</td>\n",
       "      <td>0</td>\n",
       "      <td>0</td>\n",
       "      <td>0</td>\n",
       "      <td>0</td>\n",
       "      <td>0</td>\n",
       "      <td>0</td>\n",
       "      <td>0</td>\n",
       "    </tr>\n",
       "    <tr>\n",
       "      <th>2</th>\n",
       "      <td>1</td>\n",
       "      <td>0</td>\n",
       "      <td>0</td>\n",
       "      <td>0</td>\n",
       "      <td>0</td>\n",
       "      <td>0</td>\n",
       "      <td>0</td>\n",
       "      <td>0</td>\n",
       "      <td>0</td>\n",
       "      <td>0</td>\n",
       "      <td>...</td>\n",
       "      <td>0</td>\n",
       "      <td>0</td>\n",
       "      <td>0</td>\n",
       "      <td>0</td>\n",
       "      <td>0</td>\n",
       "      <td>0</td>\n",
       "      <td>0</td>\n",
       "      <td>0</td>\n",
       "      <td>0</td>\n",
       "      <td>0</td>\n",
       "    </tr>\n",
       "    <tr>\n",
       "      <th>3</th>\n",
       "      <td>4</td>\n",
       "      <td>0</td>\n",
       "      <td>0</td>\n",
       "      <td>0</td>\n",
       "      <td>0</td>\n",
       "      <td>0</td>\n",
       "      <td>0</td>\n",
       "      <td>0</td>\n",
       "      <td>0</td>\n",
       "      <td>0</td>\n",
       "      <td>...</td>\n",
       "      <td>0</td>\n",
       "      <td>0</td>\n",
       "      <td>0</td>\n",
       "      <td>0</td>\n",
       "      <td>0</td>\n",
       "      <td>0</td>\n",
       "      <td>0</td>\n",
       "      <td>0</td>\n",
       "      <td>0</td>\n",
       "      <td>0</td>\n",
       "    </tr>\n",
       "    <tr>\n",
       "      <th>4</th>\n",
       "      <td>0</td>\n",
       "      <td>0</td>\n",
       "      <td>0</td>\n",
       "      <td>0</td>\n",
       "      <td>0</td>\n",
       "      <td>0</td>\n",
       "      <td>0</td>\n",
       "      <td>0</td>\n",
       "      <td>0</td>\n",
       "      <td>0</td>\n",
       "      <td>...</td>\n",
       "      <td>0</td>\n",
       "      <td>0</td>\n",
       "      <td>0</td>\n",
       "      <td>0</td>\n",
       "      <td>0</td>\n",
       "      <td>0</td>\n",
       "      <td>0</td>\n",
       "      <td>0</td>\n",
       "      <td>0</td>\n",
       "      <td>0</td>\n",
       "    </tr>\n",
       "  </tbody>\n",
       "</table>\n",
       "<p>5 rows × 785 columns</p>\n",
       "</div>"
      ],
      "text/plain": [
       "   label  pixel0  pixel1  pixel2  pixel3  pixel4  pixel5  pixel6  pixel7  \\\n",
       "0      1       0       0       0       0       0       0       0       0   \n",
       "1      0       0       0       0       0       0       0       0       0   \n",
       "2      1       0       0       0       0       0       0       0       0   \n",
       "3      4       0       0       0       0       0       0       0       0   \n",
       "4      0       0       0       0       0       0       0       0       0   \n",
       "\n",
       "   pixel8  ...  pixel774  pixel775  pixel776  pixel777  pixel778  pixel779  \\\n",
       "0       0  ...         0         0         0         0         0         0   \n",
       "1       0  ...         0         0         0         0         0         0   \n",
       "2       0  ...         0         0         0         0         0         0   \n",
       "3       0  ...         0         0         0         0         0         0   \n",
       "4       0  ...         0         0         0         0         0         0   \n",
       "\n",
       "   pixel780  pixel781  pixel782  pixel783  \n",
       "0         0         0         0         0  \n",
       "1         0         0         0         0  \n",
       "2         0         0         0         0  \n",
       "3         0         0         0         0  \n",
       "4         0         0         0         0  \n",
       "\n",
       "[5 rows x 785 columns]"
      ]
     },
     "execution_count": 26,
     "metadata": {},
     "output_type": "execute_result"
    }
   ],
   "source": [
    "pd_data.head()"
   ]
  },
  {
   "cell_type": "code",
   "execution_count": 27,
   "id": "fd4e8252",
   "metadata": {},
   "outputs": [],
   "source": [
    "# a - convert the pandas dataframe to a numpy dataframe\n",
    "np_data = np.array(pd_data)\n",
    "\n",
    "\n",
    "# b - get the total number of rows and columns, and shuffle the dataset\n",
    "rows, cols = np_data.shape\n",
    "np.random.shuffle(np_data)\n",
    "\n",
    "\n",
    "# c - now we only want to work with 1000 test and 41,000 training examples\n",
    "test_data = np_data[0:1000].T # this get the first 1000 rows, and all their colums and transposes it \n",
    "    #  -- the end result is a  matric of (785-rows x 1000-cols), \n",
    "    #  --- where the rows = pixels + class, and cols = images (i.e. each column is one image)\n",
    "    \n",
    "    \n",
    "# d - next we seperate the target values from the pixels \n",
    "y_test = test_data[0]\n",
    "x_test = test_data[1: ]\n",
    "x_test = x_test / 255.0 \n",
    "\n",
    "''' WARNING !!!!! If you dont normalize, training will fail because of nan values -- \n",
    "        i.e when you update the values during backpropigation, since the values are large this\n",
    "            causes some values to be so large they become nan's\n",
    "'''\n",
    "\n",
    "# e - and we do the same for the training data\n",
    "train_data = np_data[1000:].T\n",
    "y_train = train_data[0]\n",
    "x_train = train_data[1:]\n",
    "x_train = x_train / 255.0\n"
   ]
  },
  {
   "cell_type": "code",
   "execution_count": 28,
   "id": "ed482c1d",
   "metadata": {},
   "outputs": [
    {
     "name": "stdout",
     "output_type": "stream",
     "text": [
      "1. Train Data shape : (784, 41000)\n",
      "2. Test Data shape : (784, 1000)\n"
     ]
    }
   ],
   "source": [
    "# f - get the shapes of the test and train data\n",
    "print(f\"1. Train Data shape : {x_train.shape}\")\n",
    "print(f\"2. Test Data shape : {x_test.shape}\")"
   ]
  },
  {
   "cell_type": "code",
   "execution_count": 29,
   "id": "3a40af7c",
   "metadata": {},
   "outputs": [],
   "source": [
    "# g - we need to one hot encode the Y / Target values\n",
    "def one_hot_encode(y):\n",
    "    ''' Notes: \n",
    "        1 - this creates a one-hot colum vector for each value in the column vector, creating\n",
    "            a matrix where each column is a one hot encoding of some number(digit) the picture is representing\n",
    "            \n",
    "        2 - this is a fast method of computing one hot encoding by using :\n",
    "              a - np.arange - creates an array from 0 to the y.size(number of examples)\n",
    "              b - [np.arange(y.size), y] - tells us the row we want to acess (np.arrange), \n",
    "                   and its correspoding column - which we want to set as 1 since its the proper class\n",
    "    '''\n",
    "    one_hot_y = np.zeros( (y.size, y.max()+1) ) # y.size = m (number of examples)\n",
    "                                                # y.max() - is 9 because we assume 9 is the highest number\n",
    "    \n",
    "    one_hot_y[np.arange(y.size), y] = 1 \n",
    "    one_hot_y = one_hot_y.T \n",
    "    return one_hot_y # we want each col to be an example rather than each row\n",
    "\n"
   ]
  },
  {
   "cell_type": "code",
   "execution_count": null,
   "id": "c5e254a1",
   "metadata": {},
   "outputs": [],
   "source": []
  },
  {
   "cell_type": "code",
   "execution_count": 30,
   "id": "38d14be6",
   "metadata": {
    "scrolled": true
   },
   "outputs": [
    {
     "name": "stdout",
     "output_type": "stream",
     "text": [
      "[[0.25       0.04444444]\n",
      " [0.75       0.95555556]]\n",
      "[[0.02040816 0.04081633]\n",
      " [0.06122449 0.87755102]]\n"
     ]
    }
   ],
   "source": [
    "# side note == see the difference between the sum() - sums the cols -  vs np.sum() function - which sums all the values in the np.array\n",
    "a = np.array(( [1,2],\n",
    "               [3,43]  ))\n",
    "print(a/ sum(a))\n",
    "print(a/ np.sum(a))"
   ]
  },
  {
   "cell_type": "code",
   "execution_count": null,
   "id": "2f0b83d2",
   "metadata": {},
   "outputs": [],
   "source": []
  },
  {
   "cell_type": "markdown",
   "id": "27fb7d4a",
   "metadata": {},
   "source": [
    "## Part 2 - create the neural network"
   ]
  },
  {
   "cell_type": "code",
   "execution_count": 31,
   "id": "f8204051",
   "metadata": {},
   "outputs": [],
   "source": [
    "\n",
    "\"\"\" Step 1 - Initalize all the parameters \"\"\"\n",
    "def initalize_params():\n",
    "    # layer 1\n",
    "    W_1 = np.random.rand(10,784) - 0.5 \n",
    "    b_1 = np.random.rand(10,1) - 0.5 \n",
    "    \n",
    "    # layer 2\n",
    "    W_2 = np.random.rand(10,10) - 0.5 \n",
    "    b_2 = np.random.rand(10,1) - 0.5 \n",
    "    \n",
    "    '''  Notes :\n",
    "            use rand - (dist. between 0 and 1) not randn - (dist between -0.5 and 0.5) \n",
    "            and we subtract 0.5 from them because we want the values to be between -0.5 and 0.5\n",
    "             qq -- why??\n",
    "    '''\n",
    "    return W_1, b_1, W_2, b_2\n",
    "\n",
    "\n",
    "\n",
    "\"\"\" Step 2 - Forward propagation \"\"\"\n",
    "def ReLU(Z):\n",
    "    return np.maximum(Z, 0) # this is element wise application of ReLU\n",
    "    \n",
    "def SoftMax(Z):\n",
    "    A = np.exp(Z)/sum(np.exp(Z)) \n",
    "    return A\n",
    "    # np.exp - is done element-wise\n",
    "    # sum(np.array(..)) - keeps the same # of cols and colapes the rows --  which is what we want\n",
    "    # use sum not np.sum in order that the sum will be taken over a single column, not the whole matrix\n",
    "    \n",
    "def forward_propigation(W_1, b_1, W_2, b_2, X):\n",
    "    \n",
    "    # 1 - Input -> First Layer of Nodes\n",
    "    Z_1 = W_1.dot(X) + b_1\n",
    "    A_1 = ReLU(Z_1)\n",
    "    \n",
    "    # 2 - First Layer of Nodes -> Second Layer of Nodes    \n",
    "    Z_2 = W_2.dot(A_1) + b_2\n",
    "    A_2 = SoftMax(Z_2)\n",
    "    \n",
    "    return Z_1, A_1, Z_2 ,A_2\n",
    "\n",
    "\n",
    "\"\"\" Step 3 - Backwards propagation \"\"\"\n",
    "def derivative_ReLU(Z):\n",
    "    # for x > 0 its one, otherwise its zero - \n",
    "    #  - the z>0 is done element wise and true=1 and false=0, so this is a fast method of calcualting the derivative or ReLU\n",
    "    return Z > 0\n",
    "\n",
    "def backward_propigation(Z_1, A_1, Z_2 ,A_2, W_2, X, Y):\n",
    "    one_hot_of_y = one_hot_encode(Y)\n",
    "    m = Y.size\n",
    "\n",
    "    dZ_2 = A_2 - one_hot_of_y\n",
    "\n",
    "    dW_2 = ( 1/m ) * dZ_2.dot(A_1.T)\n",
    "    \n",
    "    db_2 = ( 1/m ) * np.sum(dZ_2)\n",
    "    \n",
    "    dZ_1 = W_2.T.dot(dZ_2) * derivative_ReLU(Z_1)\n",
    "    \n",
    "    dW_1 = ( 1/m ) * dZ_1.dot(X.T)\n",
    "    \n",
    "    db_1 = ( 1/m ) * np.sum(dZ_1)\n",
    "    \n",
    "    return dW_1, db_1, dW_2, db_2\n",
    "\n",
    "\n",
    "\"\"\" Step 4 - Update the Parameters \"\"\"\n",
    "def update_params(W_1, b_1, W_2, b_2, dW_1, db_1, dW_2, db_2, alpha):\n",
    "    W_1 = W_1 - alpha * dW_1\n",
    "    b_1 = b_1 - alpha * db_1\n",
    "    W_2 = W_2 - alpha * dW_2\n",
    "    b_2 = b_2 - alpha * db_2\n",
    "    \n",
    "    return W_1, b_1, W_2, b_2\n",
    "    \n",
    "    "
   ]
  },
  {
   "cell_type": "code",
   "execution_count": null,
   "id": "3b6b174b",
   "metadata": {},
   "outputs": [],
   "source": []
  },
  {
   "cell_type": "code",
   "execution_count": 32,
   "id": "da995205",
   "metadata": {},
   "outputs": [],
   "source": [
    "\"\"\" The functions to compute  (1) predictions, (2) accuracy and (3) loss \"\"\"\n",
    "def get_predictions(A_2):\n",
    "    return np.argmax(A_2, axis=0) # axis=0 - for the max value in the columns\n",
    "    # since the value with max probability will be the class that we predict\n",
    "    \n",
    "def get_accuracy(predictions, ground_truth):\n",
    "    #print(predictions, ground_truth)\n",
    "    return np.sum(predictions==ground_truth) / ground_truth.size\n",
    "\n",
    "def get_loss(predicted, ground_truth):\n",
    "    onehot_y = one_hot_encode(ground_truth)\n",
    "    return abs(np.sum(onehot_y-predicted))\n",
    "    "
   ]
  },
  {
   "cell_type": "code",
   "execution_count": 33,
   "id": "951d3702",
   "metadata": {},
   "outputs": [],
   "source": [
    "def gradiant_decent(X, Y, num_iterations, alpha):\n",
    "    # step 1 - initalize our parameters\n",
    "    W_1, b_1, W_2, b_2 = initalize_params()\n",
    "    loss_history = []\n",
    "    accuracy_history = []\n",
    "    \n",
    "    # step 2 - run gradiant decent on the our neural network for num_itterations\n",
    "    for i in range(num_iterations):\n",
    "        \n",
    "        # a - forward propigation\n",
    "        Z_1, A_1, Z_2 ,A_2 = forward_propigation(W_1, b_1, W_2, b_2, X)\n",
    "        \n",
    "        # b - backward propigation \n",
    "        dW_1, db_1, dW_2, db_2 = backward_propigation(Z_1, A_1, Z_2 ,A_2, W_2, X, Y)\n",
    "        \n",
    "        \n",
    "        # c - update parameters\n",
    "        W_1, b_1, W_2, b_2 = update_params(W_1, b_1, W_2, b_2, dW_1, db_1, dW_2, db_2, alpha)\n",
    "        \n",
    "        \n",
    "        # d - print out the accuracy - every 50 itterations\n",
    "        if i%10 == 0:\n",
    "            print(f\"Iteration  #{i}\")\n",
    "            print(f\"-- Accuracy score : {get_accuracy(get_predictions(A_2), Y)}\")\n",
    "\n",
    "        # e - calculate the loss and accuracy of the model for the current itteration\n",
    "        loss_history.append(get_loss(A_2, Y)) \n",
    "        accuracy_history.append(get_accuracy(get_predictions(A_2), Y))\n",
    "        \n",
    "    return W_1, b_1, W_2, b_2, loss_history, accuracy_history\n",
    "    "
   ]
  },
  {
   "cell_type": "markdown",
   "id": "ab0e85c6",
   "metadata": {},
   "source": [
    "## Part 3 - Train the Neural Network"
   ]
  },
  {
   "cell_type": "code",
   "execution_count": 34,
   "id": "9b4fe37f",
   "metadata": {
    "scrolled": true
   },
   "outputs": [
    {
     "name": "stdout",
     "output_type": "stream",
     "text": [
      "Iteration  #0\n",
      "-- Accuracy score : 0.09195121951219512\n",
      "Iteration  #10\n",
      "-- Accuracy score : 0.20882926829268292\n",
      "Iteration  #20\n",
      "-- Accuracy score : 0.29892682926829267\n",
      "Iteration  #30\n",
      "-- Accuracy score : 0.37573170731707317\n",
      "Iteration  #40\n",
      "-- Accuracy score : 0.4427317073170732\n",
      "Iteration  #50\n",
      "-- Accuracy score : 0.492390243902439\n",
      "Iteration  #60\n",
      "-- Accuracy score : 0.5394634146341464\n",
      "Iteration  #70\n",
      "-- Accuracy score : 0.5805365853658536\n",
      "Iteration  #80\n",
      "-- Accuracy score : 0.6150731707317073\n",
      "Iteration  #90\n",
      "-- Accuracy score : 0.643\n",
      "Iteration  #100\n",
      "-- Accuracy score : 0.666609756097561\n",
      "Iteration  #110\n",
      "-- Accuracy score : 0.6875853658536585\n",
      "Iteration  #120\n",
      "-- Accuracy score : 0.7044634146341463\n",
      "Iteration  #130\n",
      "-- Accuracy score : 0.7180243902439024\n",
      "Iteration  #140\n",
      "-- Accuracy score : 0.7309268292682927\n",
      "Iteration  #150\n",
      "-- Accuracy score : 0.7411219512195122\n",
      "Iteration  #160\n",
      "-- Accuracy score : 0.7508048780487805\n",
      "Iteration  #170\n",
      "-- Accuracy score : 0.7599024390243903\n",
      "Iteration  #180\n",
      "-- Accuracy score : 0.7676341463414634\n",
      "Iteration  #190\n",
      "-- Accuracy score : 0.7742439024390244\n",
      "Iteration  #200\n",
      "-- Accuracy score : 0.7806585365853659\n",
      "Iteration  #210\n",
      "-- Accuracy score : 0.786609756097561\n",
      "Iteration  #220\n",
      "-- Accuracy score : 0.7917804878048781\n",
      "Iteration  #230\n",
      "-- Accuracy score : 0.7962439024390244\n",
      "Iteration  #240\n",
      "-- Accuracy score : 0.800829268292683\n",
      "Iteration  #250\n",
      "-- Accuracy score : 0.8046829268292683\n",
      "Iteration  #260\n",
      "-- Accuracy score : 0.8083170731707318\n",
      "Iteration  #270\n",
      "-- Accuracy score : 0.8124146341463415\n",
      "Iteration  #280\n",
      "-- Accuracy score : 0.8161951219512195\n",
      "Iteration  #290\n",
      "-- Accuracy score : 0.8194634146341463\n",
      "Iteration  #300\n",
      "-- Accuracy score : 0.8226829268292682\n",
      "Iteration  #310\n",
      "-- Accuracy score : 0.8255853658536585\n",
      "Iteration  #320\n",
      "-- Accuracy score : 0.827780487804878\n",
      "Iteration  #330\n",
      "-- Accuracy score : 0.8302682926829268\n",
      "Iteration  #340\n",
      "-- Accuracy score : 0.8327317073170731\n",
      "Iteration  #350\n",
      "-- Accuracy score : 0.8349756097560975\n",
      "Iteration  #360\n",
      "-- Accuracy score : 0.8365853658536585\n",
      "Iteration  #370\n",
      "-- Accuracy score : 0.8388536585365853\n",
      "Iteration  #380\n",
      "-- Accuracy score : 0.8409268292682927\n",
      "Iteration  #390\n",
      "-- Accuracy score : 0.8428536585365853\n",
      "Iteration  #400\n",
      "-- Accuracy score : 0.8442682926829268\n",
      "Iteration  #410\n",
      "-- Accuracy score : 0.845780487804878\n",
      "Iteration  #420\n",
      "-- Accuracy score : 0.8476829268292683\n",
      "Iteration  #430\n",
      "-- Accuracy score : 0.8492682926829268\n",
      "Iteration  #440\n",
      "-- Accuracy score : 0.8504390243902439\n",
      "Iteration  #450\n",
      "-- Accuracy score : 0.8520975609756097\n",
      "Iteration  #460\n",
      "-- Accuracy score : 0.8536829268292683\n",
      "Iteration  #470\n",
      "-- Accuracy score : 0.8550975609756097\n",
      "Iteration  #480\n",
      "-- Accuracy score : 0.8564634146341463\n",
      "Iteration  #490\n",
      "-- Accuracy score : 0.8577560975609756\n",
      "Iteration  #500\n",
      "-- Accuracy score : 0.8587560975609756\n",
      "Iteration  #510\n",
      "-- Accuracy score : 0.8598536585365854\n",
      "Iteration  #520\n",
      "-- Accuracy score : 0.861\n",
      "Iteration  #530\n",
      "-- Accuracy score : 0.8622195121951219\n",
      "Iteration  #540\n",
      "-- Accuracy score : 0.8632682926829268\n",
      "Iteration  #550\n",
      "-- Accuracy score : 0.8642195121951219\n",
      "Iteration  #560\n",
      "-- Accuracy score : 0.8653414634146341\n",
      "Iteration  #570\n",
      "-- Accuracy score : 0.8659512195121951\n",
      "Iteration  #580\n",
      "-- Accuracy score : 0.8667560975609756\n",
      "Iteration  #590\n",
      "-- Accuracy score : 0.867390243902439\n",
      "Iteration  #600\n",
      "-- Accuracy score : 0.8679756097560976\n",
      "Iteration  #610\n",
      "-- Accuracy score : 0.8686341463414634\n",
      "Iteration  #620\n",
      "-- Accuracy score : 0.8694390243902439\n",
      "Iteration  #630\n",
      "-- Accuracy score : 0.8704146341463415\n",
      "Iteration  #640\n",
      "-- Accuracy score : 0.8712926829268293\n",
      "Iteration  #650\n",
      "-- Accuracy score : 0.8718292682926829\n",
      "Iteration  #660\n",
      "-- Accuracy score : 0.8724146341463415\n",
      "Iteration  #670\n",
      "-- Accuracy score : 0.8731219512195122\n",
      "Iteration  #680\n",
      "-- Accuracy score : 0.8737317073170732\n",
      "Iteration  #690\n",
      "-- Accuracy score : 0.8745121951219512\n",
      "Iteration  #700\n",
      "-- Accuracy score : 0.8751463414634146\n",
      "Iteration  #710\n",
      "-- Accuracy score : 0.8755853658536585\n",
      "Iteration  #720\n",
      "-- Accuracy score : 0.8758780487804878\n",
      "Iteration  #730\n",
      "-- Accuracy score : 0.876390243902439\n",
      "Iteration  #740\n",
      "-- Accuracy score : 0.8770243902439024\n"
     ]
    }
   ],
   "source": [
    "W_1, b_1, W_2, b_2, loss_history, ac_history = gradiant_decent(x_train, y_train, 750, 0.1)"
   ]
  },
  {
   "cell_type": "markdown",
   "id": "2b599f1b",
   "metadata": {},
   "source": [
    "## Part 4 - Plot the Loss and Accuracy over time"
   ]
  },
  {
   "cell_type": "code",
   "execution_count": 36,
   "id": "7c9374f8",
   "metadata": {},
   "outputs": [
    {
     "data": {
      "image/png": "[encoded data removed]",
      "text/plain": [
       "<Figure size 432x288 with 1 Axes>"
      ]
     },
     "metadata": {
      "needs_background": "light"
     },
     "output_type": "display_data"
    }
   ],
   "source": [
    "# PLOT 1 - Plot the Loss \n",
    "\n",
    "# a - setup the plot\n",
    "fig, ax = plt.subplots()\n",
    "\n",
    "# b - plot loss \n",
    "ax.plot(loss_history, 'r')\n",
    "\n",
    "# c - labels and title\n",
    "ax.set_xlabel('Epoch')\n",
    "ax.set_ylabel('Loss')\n",
    "ax.set_title('Loss over time')\n",
    "\n",
    "# d - display \n",
    "plt.show()"
   ]
  },
  {
   "cell_type": "code",
   "execution_count": 37,
   "id": "cbd957cc",
   "metadata": {},
   "outputs": [
    {
     "data": {
      "image/png": "[encoded data removed]",
      "text/plain": [
       "<Figure size 432x288 with 1 Axes>"
      ]
     },
     "metadata": {
      "needs_background": "light"
     },
     "output_type": "display_data"
    }
   ],
   "source": [
    "# PLOT 2 - Plot the Accuracy over time\n",
    "\n",
    "# a - setup the plot\n",
    "fig, ax = plt.subplots()\n",
    "\n",
    "# b - plot accuracy\n",
    "ax.plot(ac_history,  'b')\n",
    "\n",
    "# c - labels and title\n",
    "ax.set_xlabel('Epoch')\n",
    "ax.set_ylabel('Accuracy')\n",
    "ax.set_title('Accuracy over time')\n",
    "\n",
    "# d - display \n",
    "plt.show()"
   ]
  },
  {
   "cell_type": "markdown",
   "id": "a7aaeb97",
   "metadata": {},
   "source": [
    "## Part 5 - Test performance on some examples, overall"
   ]
  },
  {
   "cell_type": "code",
   "execution_count": 38,
   "id": "67c842ca",
   "metadata": {},
   "outputs": [],
   "source": [
    "def make_predictions(X, W_1, b_1, W_2, b_2):\n",
    "    _, _, _, A_2 = forward_propigation(W_1, b_1, W_2, b_2, X)\n",
    "    predictions = get_predictions(A_2)\n",
    "    return predictions\n",
    "\n",
    "def test_prediction(index, W_1, b_1, W_2, b_2):\n",
    "    current_image = x_train[:, index, None]\n",
    "    prediction = make_predictions(x_train[:, index, None], W_1, b_1, W_2, b_2)\n",
    "    label = y_train[index]\n",
    "    print(\"Prediction: \", prediction)\n",
    "    print(\"Label: \", label)\n",
    "    \n",
    "    current_image = current_image.reshape((28, 28)) * 255\n",
    "    plt.gray()\n",
    "    plt.imshow(current_image, interpolation='nearest')\n",
    "    plt.show()"
   ]
  },
  {
   "cell_type": "code",
   "execution_count": 39,
   "id": "fac3eb9e",
   "metadata": {},
   "outputs": [
    {
     "name": "stdout",
     "output_type": "stream",
     "text": [
      "Prediction:  [2]\n",
      "Label:  2\n"
     ]
    },
    {
     "data": {
      "image/png": "[encoded data removed]",
      "text/plain": [
       "<Figure size 432x288 with 1 Axes>"
      ]
     },
     "metadata": {
      "needs_background": "light"
     },
     "output_type": "display_data"
    },
    {
     "name": "stdout",
     "output_type": "stream",
     "text": [
      "Prediction:  [2]\n",
      "Label:  2\n"
     ]
    },
    {
     "data": {
      "image/png": "[encoded data removed]",
      "text/plain": [
       "<Figure size 432x288 with 1 Axes>"
      ]
     },
     "metadata": {
      "needs_background": "light"
     },
     "output_type": "display_data"
    },
    {
     "name": "stdout",
     "output_type": "stream",
     "text": [
      "Prediction:  [2]\n",
      "Label:  3\n"
     ]
    },
    {
     "data": {
      "image/png": "[encoded data removed]",
      "text/plain": [
       "<Figure size 432x288 with 1 Axes>"
      ]
     },
     "metadata": {
      "needs_background": "light"
     },
     "output_type": "display_data"
    },
    {
     "name": "stdout",
     "output_type": "stream",
     "text": [
      "Prediction:  [4]\n",
      "Label:  4\n"
     ]
    },
    {
     "data": {
      "image/png": "[encoded data removed]",
      "text/plain": [
       "<Figure size 432x288 with 1 Axes>"
      ]
     },
     "metadata": {
      "needs_background": "light"
     },
     "output_type": "display_data"
    }
   ],
   "source": [
    "test_prediction(0, W_1, b_1, W_2, b_2)\n",
    "test_prediction(1, W_1, b_1, W_2, b_2)\n",
    "test_prediction(2, W_1, b_1, W_2, b_2)\n",
    "test_prediction(3, W_1, b_1, W_2, b_2)"
   ]
  },
  {
   "cell_type": "code",
   "execution_count": 40,
   "id": "ea1e1a8b",
   "metadata": {},
   "outputs": [
    {
     "data": {
      "text/plain": [
       "0.858"
      ]
     },
     "execution_count": 40,
     "metadata": {},
     "output_type": "execute_result"
    }
   ],
   "source": [
    "# Accuracy on Test Dataset\n",
    "test_predictions = make_predictions(x_test, W_1, b_1, W_2, b_2)\n",
    "get_accuracy(test_predictions, y_test)"
   ]
  }
 ],
 "metadata": {
  "kernelspec": {
   "display_name": "Python 3 (ipykernel)",
   "language": "python",
   "name": "python3"
  },
  "language_info": {
   "codemirror_mode": {
    "name": "ipython",
    "version": 3
   },
   "file_extension": ".py",
   "mimetype": "text/x-python",
   "name": "python",
   "nbconvert_exporter": "python",
   "pygments_lexer": "ipython3",
   "version": "3.9.10"
  }
 },
 "nbformat": 4,
 "nbformat_minor": 5
}
